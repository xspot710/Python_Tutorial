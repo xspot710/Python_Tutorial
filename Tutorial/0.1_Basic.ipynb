{
 "cells": [
  {
   "cell_type": "markdown",
   "id": "6dba5f32",
   "metadata": {},
   "source": [
    "# Python Basics "
   ]
  },
  {
   "cell_type": "markdown",
   "id": "003983a5",
   "metadata": {},
   "source": [
    "## Basic Syntax"
   ]
  },
  {
   "cell_type": "markdown",
   "id": "bbc9edad",
   "metadata": {},
   "source": [
    "### Variable Definition\n",
    "In Python, variables are used to store data and do not need explicit type declaration. Variables are defined by assignment."
   ]
  },
  {
   "cell_type": "code",
   "execution_count": null,
   "id": "002581f0",
   "metadata": {},
   "outputs": [],
   "source": [
    "number = 10\n",
    "name = 'Yen'\n",
    "print(number, name)"
   ]
  },
  {
   "cell_type": "markdown",
   "id": "7cf04239",
   "metadata": {},
   "source": [
    "### Basic Data Types\n",
    "Python has various data types including integers, floats, strings, and booleans."
   ]
  },
  {
   "cell_type": "code",
   "execution_count": null,
   "id": "4c15cc89",
   "metadata": {},
   "outputs": [],
   "source": [
    "integer = 5\n",
    "floating_point = 3.14\n",
    "string = 'Hello, World!'\n",
    "boolean = True\n",
    "print(integer, floating_point, string, boolean)"
   ]
  },
  {
   "cell_type": "markdown",
   "id": "6d78e447",
   "metadata": {},
   "source": [
    "### Simple Input and Output\n",
    "Using `print()` for output and `input()` for user input."
   ]
  },
  {
   "cell_type": "code",
   "execution_count": null,
   "id": "52599192",
   "metadata": {},
   "outputs": [],
   "source": [
    "print('Hello, World!')\n",
    "user_input = input('Enter your name: ')\n",
    "print('Hello,', user_input)"
   ]
  },
  {
   "cell_type": "markdown",
   "id": "fa201ab0",
   "metadata": {},
   "source": [
    "## Control Structures"
   ]
  },
  {
   "cell_type": "markdown",
   "id": "53b8c82f",
   "metadata": {},
   "source": [
    "### Conditional Statements (if-else)\n",
    "Used for executing code based on conditions."
   ]
  },
  {
   "cell_type": "code",
   "execution_count": null,
   "metadata": {},
   "outputs": [],
   "source": [
    "age = 20\n",
    "if age >= 18:\n",
    "    print('Adult')"
   ]
  },
  {
   "cell_type": "code",
   "execution_count": null,
   "metadata": {},
   "outputs": [],
   "source": [
    "age = 16\n",
    "if age >= 18:\n",
    "    print('Adult')\n",
    "else:\n",
    "    print('Minor')"
   ]
  },
  {
   "cell_type": "code",
   "execution_count": null,
   "id": "1385a934",
   "metadata": {},
   "outputs": [],
   "source": [
    "age = 20\n",
    "if age < 18:\n",
    "    print('Minor')\n",
    "elif age < 65:\n",
    "    print('Adult')\n",
    "else:\n",
    "    print('Senior')"
   ]
  },
  {
   "cell_type": "markdown",
   "id": "2b944143",
   "metadata": {},
   "source": [
    "### Loops (for and while)\n",
    "For iterating over sequences and repeatedly executing code as long as a condition is true."
   ]
  },
  {
   "cell_type": "code",
   "execution_count": null,
   "id": "b0137e86",
   "metadata": {},
   "outputs": [],
   "source": [
    "# for loop\n",
    "for i in range(5):\n",
    "    print(i)\n",
    "\n",
    "# while loop\n",
    "count = 0\n",
    "while count < 5:\n",
    "    print(count)\n",
    "    count += 1"
   ]
  },
  {
   "cell_type": "markdown",
   "metadata": {},
   "source": [
    "Loops with break and continue"
   ]
  },
  {
   "cell_type": "code",
   "execution_count": null,
   "metadata": {},
   "outputs": [],
   "source": [
    "for i in range(5):\n",
    "    if i == 3:\n",
    "        break\n",
    "    print(i)"
   ]
  },
  {
   "cell_type": "code",
   "execution_count": null,
   "metadata": {},
   "outputs": [],
   "source": [
    "for i in range(5):\n",
    "    if i == 3:\n",
    "        continue\n",
    "    print(i)"
   ]
  },
  {
   "cell_type": "code",
   "execution_count": null,
   "id": "9f4cdee7",
   "metadata": {},
   "outputs": [],
   "source": [
    "count = 0\n",
    "while count < 5:\n",
    "    count += 1\n",
    "    if count == 3:\n",
    "        break\n",
    "    print(count)\n"
   ]
  },
  {
   "cell_type": "markdown",
   "metadata": {},
   "source": [
    "for loops with else"
   ]
  },
  {
   "cell_type": "code",
   "execution_count": null,
   "metadata": {},
   "outputs": [],
   "source": [
    "for i in range(3):\n",
    "    print(i)\n",
    "else:\n",
    "    print('Loop finished')"
   ]
  },
  {
   "cell_type": "markdown",
   "metadata": {},
   "source": [
    "## Function Definition\n",
    "In Python, functions are defined using the `def` keyword. A function can take parameters and return a value."
   ]
  },
  {
   "cell_type": "code",
   "execution_count": null,
   "metadata": {},
   "outputs": [],
   "source": [
    "def add(a, b):\n",
    "    total = a + b\n",
    "    return total\n",
    "\n",
    "result = add(5, 3)\n",
    "print(result)"
   ]
  },
  {
   "cell_type": "code",
   "execution_count": null,
   "metadata": {},
   "outputs": [],
   "source": [
    "def check_number(n):\n",
    "    if n > 0:\n",
    "        return 'Positive'\n",
    "    elif n < 0:\n",
    "        return 'Negative'\n",
    "    else:\n",
    "        return 'Zero'\n",
    "\n",
    "# Example usage\n",
    "print(check_number(5))\n",
    "print(check_number(-3))\n",
    "print(check_number(0))"
   ]
  },
  {
   "cell_type": "code",
   "execution_count": null,
   "metadata": {},
   "outputs": [],
   "source": [
    "def sum_even_numbers(lst):\n",
    "    total = 0\n",
    "    for num in lst:\n",
    "        if num % 2 == 0:\n",
    "            total += num\n",
    "    return total\n",
    "\n",
    "# Example usage\n",
    "print(sum_even_numbers([1, 2, 3, 4, 5, 6]))"
   ]
  },
  {
   "cell_type": "markdown",
   "id": "500973ce",
   "metadata": {},
   "source": [
    "## Basic Exercises"
   ]
  },
  {
   "cell_type": "markdown",
   "metadata": {},
   "source": [
    "### 1. String Reversal\n",
    "Reverse a given string."
   ]
  },
  {
   "cell_type": "code",
   "execution_count": null,
   "metadata": {},
   "outputs": [],
   "source": [
    "def reverse_string(s):\n",
    "    # Implementation here\n",
    "    pass\n",
    "\n",
    "# Example usage\n",
    "reverse_string('hello')\n",
    "# Expected Output: 'olleh'"
   ]
  },
  {
   "cell_type": "markdown",
   "metadata": {},
   "source": [
    "### 2. Sum of a List\n",
    "Calculate the sum of a list of numbers."
   ]
  },
  {
   "cell_type": "code",
   "execution_count": null,
   "metadata": {},
   "outputs": [],
   "source": [
    "def sum_of_list(lst):\n",
    "    # Implementation here\n",
    "    pass\n",
    "\n",
    "# Example usage\n",
    "sum_of_list([1, 2, 3, 4, 5]) \n",
    "# Expected Output: 15"
   ]
  },
  {
   "cell_type": "markdown",
   "metadata": {},
   "source": [
    "### 3. Find the Maximum Number in a List\n",
    "Find the largest number in a given list."
   ]
  },
  {
   "cell_type": "code",
   "execution_count": null,
   "metadata": {},
   "outputs": [],
   "source": [
    "def max_in_list(lst):\n",
    "    # Implementation here\n",
    "    pass\n",
    "\n",
    "# Example usage\n",
    "max_in_list([3, 6, 2, 8, 4])\n",
    "# Expected Output: 8"
   ]
  }
 ],
 "metadata": {
  "kernelspec": {
   "display_name": "Python 3",
   "language": "python",
   "name": "python3"
  },
  "language_info": {
   "codemirror_mode": {
    "name": "ipython",
    "version": 3
   },
   "file_extension": ".py",
   "mimetype": "text/x-python",
   "name": "python",
   "nbconvert_exporter": "python",
   "pygments_lexer": "ipython3",
   "version": "3.11.6"
  }
 },
 "nbformat": 4,
 "nbformat_minor": 5
}
