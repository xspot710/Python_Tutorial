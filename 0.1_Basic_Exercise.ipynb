{
 "cells": [
  {
   "cell_type": "markdown",
   "id": "015ab749",
   "metadata": {},
   "source": [
    "## Basic Exercises"
   ]
  },
  {
   "cell_type": "markdown",
   "id": "48853606",
   "metadata": {},
   "source": [
    "### 1. String Reversal\n",
    "Reverse a given string."
   ]
  },
  {
   "cell_type": "code",
   "execution_count": null,
   "id": "7bf0e948",
   "metadata": {},
   "outputs": [],
   "source": [
    "def reverse_string(s):\n",
    "    reversed_string = \"\"\n",
    "    for char in s:\n",
    "        reversed_string = char + reversed_string\n",
    "    return reversed_string\n",
    "\n",
    "# Example usage\n",
    "reverse_string('hello')"
   ]
  },
  {
   "cell_type": "markdown",
   "id": "a211f71f",
   "metadata": {},
   "source": [
    "### 2. Sum of a List\n",
    "Calculate the sum of a list of numbers."
   ]
  },
  {
   "cell_type": "code",
   "execution_count": null,
   "id": "3e35017b",
   "metadata": {},
   "outputs": [],
   "source": [
    "def sum_of_list(lst):\n",
    "    total = 0\n",
    "    for number in lst:\n",
    "        total += number\n",
    "    return total\n",
    "\n",
    "# Example usage\n",
    "sum_of_list([1, 2, 3, 4, 5])"
   ]
  },
  {
   "cell_type": "markdown",
   "id": "70344430",
   "metadata": {},
   "source": [
    "### 3. Find the Maximum Number in a List\n",
    "Find the largest number in a given list."
   ]
  },
  {
   "cell_type": "code",
   "execution_count": null,
   "id": "bb691b60",
   "metadata": {},
   "outputs": [],
   "source": [
    "def max_in_list(lst):\n",
    "    if not lst:  # Check if the list is empty\n",
    "        return None  # If the list is empty, return None\n",
    "    max_value = lst[0]  # Assume the first element is the largest\n",
    "    for number in lst:\n",
    "        if number > max_value:\n",
    "            max_value = number  # Found a larger value, update max_value\n",
    "    return max_value\n",
    "\n",
    "# Example usage\n",
    "max_in_list([3, 6, 2, 8, 4])"
   ]
  }
 ],
 "metadata": {
  "kernelspec": {
   "display_name": "Python 3",
   "language": "python",
   "name": "python3"
  },
  "language_info": {
   "codemirror_mode": {
    "name": "ipython",
    "version": 3
   },
   "file_extension": ".py",
   "mimetype": "text/x-python",
   "name": "python",
   "nbconvert_exporter": "python",
   "pygments_lexer": "ipython3",
   "version": "3.11.6"
  }
 },
 "nbformat": 4,
 "nbformat_minor": 5
}
